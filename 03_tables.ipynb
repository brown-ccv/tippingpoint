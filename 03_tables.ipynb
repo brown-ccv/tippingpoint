{
 "cells": [
  {
   "cell_type": "markdown",
   "metadata": {},
   "source": [
    "# Tables\n",
    "\n",
    "These are just the tables of interest."
   ]
  },
  {
   "cell_type": "code",
   "execution_count": 2,
   "metadata": {},
   "outputs": [
    {
     "name": "stderr",
     "output_type": "stream",
     "text": [
      "┌ Info: Recompiling stale cache file /Users/aguang/.julia/compiled/v1.1/DataFrames/AR9oZ.ji for DataFrames [a93c6f00-e57d-5684-b7b6-d8193f3e46c0]\n",
      "└ @ Base loading.jl:1184\n",
      "┌ Info: Recompiling stale cache file /Users/aguang/.julia/compiled/v1.1/CSV/HHBkp.ji for CSV [336ed68f-0bac-5ca0-87d4-7b16caf5d00b]\n",
      "└ @ Base loading.jl:1184\n",
      "┌ Info: Recompiling stale cache file /Users/aguang/.julia/compiled/v1.1/GLM/6OREG.ji for GLM [38e38edf-8417-5370-95a0-9cbb8c7f171a]\n",
      "└ @ Base loading.jl:1184\n",
      "┌ Info: Recompiling stale cache file /Users/aguang/.julia/compiled/v1.1/Gadfly/DvECm.ji for Gadfly [c91e804a-d5a3-530f-b6f0-dfbca275c004]\n",
      "└ @ Base loading.jl:1184\n"
     ]
    },
    {
     "data": {
      "text/html": [
       "<table class=\"data-frame\"><thead><tr><th></th><th>subj</th><th>graphid</th><th>tp</th><th>q</th><th>pt</th><th>risingBefore</th><th>cannotSeeAfter</th><th>downOverall</th></tr><tr><th></th><th>Int64</th><th>String</th><th>Int64⍰</th><th>String</th><th>String</th><th>Int64</th><th>Int64</th><th>Int64</th></tr></thead><tbody><p>5,696 rows × 29 columns (omitted printing of 21 columns)</p><tr><th>1</th><td>1</td><td>Q2 A</td><td>0</td><td>Q2</td><td>A</td><td>1</td><td>0</td><td>0</td></tr><tr><th>2</th><td>1</td><td>Q2 B</td><td>0</td><td>Q2</td><td>B</td><td>1</td><td>0</td><td>0</td></tr><tr><th>3</th><td>1</td><td>Q2 C</td><td>0</td><td>Q2</td><td>C</td><td>1</td><td>1</td><td>0</td></tr><tr><th>4</th><td>1</td><td>Q3 A</td><td>0</td><td>Q3</td><td>A</td><td>1</td><td>0</td><td>1</td></tr><tr><th>5</th><td>1</td><td>Q3 B</td><td>0</td><td>Q3</td><td>B</td><td>0</td><td>0</td><td>1</td></tr><tr><th>6</th><td>1</td><td>Q3 C</td><td>0</td><td>Q3</td><td>C</td><td>0</td><td>0</td><td>1</td></tr><tr><th>7</th><td>1</td><td>Q3 D</td><td>0</td><td>Q3</td><td>D</td><td>0</td><td>0</td><td>1</td></tr><tr><th>8</th><td>1</td><td>Q3 E</td><td>0</td><td>Q3</td><td>E</td><td>1</td><td>0</td><td>1</td></tr><tr><th>9</th><td>1</td><td>Q4 A</td><td>0</td><td>Q4</td><td>A</td><td>0</td><td>0</td><td>1</td></tr><tr><th>10</th><td>1</td><td>Q4 B</td><td>0</td><td>Q4</td><td>B</td><td>0</td><td>0</td><td>1</td></tr><tr><th>11</th><td>1</td><td>Q5 A</td><td>0</td><td>Q5</td><td>A</td><td>1</td><td>0</td><td>1</td></tr><tr><th>12</th><td>1</td><td>Q5 B</td><td>0</td><td>Q5</td><td>B</td><td>0</td><td>0</td><td>1</td></tr><tr><th>13</th><td>1</td><td>Q5 C</td><td>0</td><td>Q5</td><td>C</td><td>1</td><td>0</td><td>1</td></tr><tr><th>14</th><td>1</td><td>Q5 D</td><td>0</td><td>Q5</td><td>D</td><td>0</td><td>0</td><td>1</td></tr><tr><th>15</th><td>1</td><td>Q6 A</td><td>0</td><td>Q6</td><td>A</td><td>1</td><td>0</td><td>0</td></tr><tr><th>16</th><td>1</td><td>Q6 B</td><td>0</td><td>Q6</td><td>B</td><td>0</td><td>0</td><td>0</td></tr><tr><th>17</th><td>1</td><td>Q6 C</td><td>0</td><td>Q6</td><td>C</td><td>1</td><td>1</td><td>0</td></tr><tr><th>18</th><td>1</td><td>Q7 A</td><td>0</td><td>Q7</td><td>A</td><td>1</td><td>0</td><td>1</td></tr><tr><th>19</th><td>1</td><td>Q7 B</td><td>0</td><td>Q7</td><td>B</td><td>0</td><td>1</td><td>1</td></tr><tr><th>20</th><td>1</td><td>Q8 A</td><td>0</td><td>Q8</td><td>A</td><td>1</td><td>0</td><td>0</td></tr><tr><th>21</th><td>1</td><td>Q8 B</td><td>0</td><td>Q8</td><td>B</td><td>1</td><td>1</td><td>0</td></tr><tr><th>22</th><td>1</td><td>Q9 A</td><td>0</td><td>Q9</td><td>A</td><td>1</td><td>0</td><td>0</td></tr><tr><th>23</th><td>1</td><td>Q10 A</td><td>0</td><td>Q10</td><td>A</td><td>1</td><td>0</td><td>1</td></tr><tr><th>24</th><td>1</td><td>Q10 B</td><td>0</td><td>Q10</td><td>B</td><td>0</td><td>0</td><td>1</td></tr><tr><th>25</th><td>1</td><td>Q10 C</td><td>0</td><td>Q10</td><td>C</td><td>1</td><td>0</td><td>1</td></tr><tr><th>26</th><td>1</td><td>Q10 D</td><td>0</td><td>Q10</td><td>D</td><td>0</td><td>0</td><td>1</td></tr><tr><th>27</th><td>1</td><td>Q11 A</td><td>0</td><td>Q11</td><td>A</td><td>0</td><td>0</td><td>1</td></tr><tr><th>28</th><td>1</td><td>Q11 B</td><td>0</td><td>Q11</td><td>B</td><td>0</td><td>0</td><td>1</td></tr><tr><th>29</th><td>1</td><td>Q11 C</td><td>0</td><td>Q11</td><td>C</td><td>0</td><td>0</td><td>1</td></tr><tr><th>30</th><td>1</td><td>Q11 D</td><td>0</td><td>Q11</td><td>D</td><td>0</td><td>0</td><td>1</td></tr><tr><th>&vellip;</th><td>&vellip;</td><td>&vellip;</td><td>&vellip;</td><td>&vellip;</td><td>&vellip;</td><td>&vellip;</td><td>&vellip;</td><td>&vellip;</td></tr></tbody></table>"
      ],
      "text/latex": [
       "\\begin{tabular}{r|ccccccccc}\n",
       "\t& subj & graphid & tp & q & pt & risingBefore & cannotSeeAfter & downOverall & \\\\\n",
       "\t\\hline\n",
       "\t& Int64 & String & Int64⍰ & String & String & Int64 & Int64 & Int64 & \\\\\n",
       "\t\\hline\n",
       "\t1 & 1 & Q2 A & 0 & Q2 & A & 1 & 0 & 0 & $\\dots$ \\\\\n",
       "\t2 & 1 & Q2 B & 0 & Q2 & B & 1 & 0 & 0 & $\\dots$ \\\\\n",
       "\t3 & 1 & Q2 C & 0 & Q2 & C & 1 & 1 & 0 & $\\dots$ \\\\\n",
       "\t4 & 1 & Q3 A & 0 & Q3 & A & 1 & 0 & 1 & $\\dots$ \\\\\n",
       "\t5 & 1 & Q3 B & 0 & Q3 & B & 0 & 0 & 1 & $\\dots$ \\\\\n",
       "\t6 & 1 & Q3 C & 0 & Q3 & C & 0 & 0 & 1 & $\\dots$ \\\\\n",
       "\t7 & 1 & Q3 D & 0 & Q3 & D & 0 & 0 & 1 & $\\dots$ \\\\\n",
       "\t8 & 1 & Q3 E & 0 & Q3 & E & 1 & 0 & 1 & $\\dots$ \\\\\n",
       "\t9 & 1 & Q4 A & 0 & Q4 & A & 0 & 0 & 1 & $\\dots$ \\\\\n",
       "\t10 & 1 & Q4 B & 0 & Q4 & B & 0 & 0 & 1 & $\\dots$ \\\\\n",
       "\t11 & 1 & Q5 A & 0 & Q5 & A & 1 & 0 & 1 & $\\dots$ \\\\\n",
       "\t12 & 1 & Q5 B & 0 & Q5 & B & 0 & 0 & 1 & $\\dots$ \\\\\n",
       "\t13 & 1 & Q5 C & 0 & Q5 & C & 1 & 0 & 1 & $\\dots$ \\\\\n",
       "\t14 & 1 & Q5 D & 0 & Q5 & D & 0 & 0 & 1 & $\\dots$ \\\\\n",
       "\t15 & 1 & Q6 A & 0 & Q6 & A & 1 & 0 & 0 & $\\dots$ \\\\\n",
       "\t16 & 1 & Q6 B & 0 & Q6 & B & 0 & 0 & 0 & $\\dots$ \\\\\n",
       "\t17 & 1 & Q6 C & 0 & Q6 & C & 1 & 1 & 0 & $\\dots$ \\\\\n",
       "\t18 & 1 & Q7 A & 0 & Q7 & A & 1 & 0 & 1 & $\\dots$ \\\\\n",
       "\t19 & 1 & Q7 B & 0 & Q7 & B & 0 & 1 & 1 & $\\dots$ \\\\\n",
       "\t20 & 1 & Q8 A & 0 & Q8 & A & 1 & 0 & 0 & $\\dots$ \\\\\n",
       "\t21 & 1 & Q8 B & 0 & Q8 & B & 1 & 1 & 0 & $\\dots$ \\\\\n",
       "\t22 & 1 & Q9 A & 0 & Q9 & A & 1 & 0 & 0 & $\\dots$ \\\\\n",
       "\t23 & 1 & Q10 A & 0 & Q10 & A & 1 & 0 & 1 & $\\dots$ \\\\\n",
       "\t24 & 1 & Q10 B & 0 & Q10 & B & 0 & 0 & 1 & $\\dots$ \\\\\n",
       "\t25 & 1 & Q10 C & 0 & Q10 & C & 1 & 0 & 1 & $\\dots$ \\\\\n",
       "\t26 & 1 & Q10 D & 0 & Q10 & D & 0 & 0 & 1 & $\\dots$ \\\\\n",
       "\t27 & 1 & Q11 A & 0 & Q11 & A & 0 & 0 & 1 & $\\dots$ \\\\\n",
       "\t28 & 1 & Q11 B & 0 & Q11 & B & 0 & 0 & 1 & $\\dots$ \\\\\n",
       "\t29 & 1 & Q11 C & 0 & Q11 & C & 0 & 0 & 1 & $\\dots$ \\\\\n",
       "\t30 & 1 & Q11 D & 0 & Q11 & D & 0 & 0 & 1 & $\\dots$ \\\\\n",
       "\t$\\dots$ & $\\dots$ & $\\dots$ & $\\dots$ & $\\dots$ & $\\dots$ & $\\dots$ & $\\dots$ & $\\dots$ &  \\\\\n",
       "\\end{tabular}\n"
      ],
      "text/plain": [
       "5696×29 DataFrame. Omitted printing of 23 columns\n",
       "│ Row  │ subj  │ graphid │ tp     │ q      │ pt     │ risingBefore │\n",
       "│      │ \u001b[90mInt64\u001b[39m │ \u001b[90mString\u001b[39m  │ \u001b[90mInt64⍰\u001b[39m │ \u001b[90mString\u001b[39m │ \u001b[90mString\u001b[39m │ \u001b[90mInt64\u001b[39m        │\n",
       "├──────┼───────┼─────────┼────────┼────────┼────────┼──────────────┤\n",
       "│ 1    │ 1     │ Q2 A    │ 0      │ Q2     │ A      │ 1            │\n",
       "│ 2    │ 1     │ Q2 B    │ 0      │ Q2     │ B      │ 1            │\n",
       "│ 3    │ 1     │ Q2 C    │ 0      │ Q2     │ C      │ 1            │\n",
       "│ 4    │ 1     │ Q3 A    │ 0      │ Q3     │ A      │ 1            │\n",
       "│ 5    │ 1     │ Q3 B    │ 0      │ Q3     │ B      │ 0            │\n",
       "│ 6    │ 1     │ Q3 C    │ 0      │ Q3     │ C      │ 0            │\n",
       "│ 7    │ 1     │ Q3 D    │ 0      │ Q3     │ D      │ 0            │\n",
       "│ 8    │ 1     │ Q3 E    │ 0      │ Q3     │ E      │ 1            │\n",
       "│ 9    │ 1     │ Q4 A    │ 0      │ Q4     │ A      │ 0            │\n",
       "│ 10   │ 1     │ Q4 B    │ 0      │ Q4     │ B      │ 0            │\n",
       "⋮\n",
       "│ 5686 │ 178   │ Q9 A    │ 0      │ Q9     │ A      │ 1            │\n",
       "│ 5687 │ 178   │ Q10 A   │ 0      │ Q10    │ A      │ 1            │\n",
       "│ 5688 │ 178   │ Q10 B   │ 1      │ Q10    │ B      │ 0            │\n",
       "│ 5689 │ 178   │ Q10 C   │ 1      │ Q10    │ C      │ 1            │\n",
       "│ 5690 │ 178   │ Q10 D   │ 1      │ Q10    │ D      │ 0            │\n",
       "│ 5691 │ 178   │ Q11 A   │ 1      │ Q11    │ A      │ 0            │\n",
       "│ 5692 │ 178   │ Q11 B   │ 0      │ Q11    │ B      │ 0            │\n",
       "│ 5693 │ 178   │ Q11 C   │ 1      │ Q11    │ C      │ 0            │\n",
       "│ 5694 │ 178   │ Q11 D   │ 1      │ Q11    │ D      │ 0            │\n",
       "│ 5695 │ 178   │ Q12 A   │ 0      │ Q12    │ A      │ 1            │\n",
       "│ 5696 │ 178   │ Q13 A   │ 0      │ Q13    │ A      │ 1            │"
      ]
     },
     "execution_count": 2,
     "metadata": {},
     "output_type": "execute_result"
    },
    {
     "name": "stderr",
     "output_type": "stream",
     "text": [
      "┌ Warning: `T` is deprecated, use `nonmissingtype` instead.\n",
      "│   caller = compacttype(::Type, ::Int64) at show.jl:39\n",
      "└ @ DataFrames /Users/aguang/.julia/packages/DataFrames/Iyo5L/src/abstractdataframe/show.jl:39\n"
     ]
    }
   ],
   "source": [
    "using DataFrames\n",
    "using CSV\n",
    "using GLM\n",
    "using Gadfly\n",
    "using Statistics\n",
    "using NamedArrays\n",
    "\n",
    "DATA=\"/Users/aguang/CORE/tippingpoint/tippingpoint/data\"\n",
    "df_dv = CSV.File(joinpath(DATA,\"df_dv.dat\"),normalizenames=true) |> DataFrame!\n",
    "df_gc = CSV.File(joinpath(DATA,\"df_gc.dat\"),normalizenames=true) |> DataFrame!\n",
    "df_subject = CSV.File(joinpath(DATA,\"df_subject.dat\"),normalizenames=true) |> DataFrame!\n",
    "full_df = CSV.File(joinpath(DATA,\"full_df.dat\"),normalizenames=true) |> DataFrame!"
   ]
  },
  {
   "cell_type": "code",
   "execution_count": 18,
   "metadata": {},
   "outputs": [
    {
     "data": {
      "text/plain": [
       "\"Figures/mean_sd.csv\""
      ]
     },
     "execution_count": 18,
     "metadata": {},
     "output_type": "execute_result"
    }
   ],
   "source": [
    "mean_sd = DataFrame(Variables=[\"risingBefore\", \"cannotSeeAfter\",\n",
    "        \"downOverall\", \"bellOverall\", \"complexOverall\", \"uniBrown\", \"expExec\", \"tpChange\", \"tpRate\", \"tpDir\", \"tpNoReturn\",\n",
    "            \"tellMgr\", \"impChange\", \"impRise\", \"impFall\", \"impPeriodic\", \"numOtherTP\",\n",
    "            \"liwcPosemo\", \"liwcNegemo\", \"liwcCause\", \"liwcFocusPre\", \"liwcFocusFut\",\n",
    "            \"liwcRelativ\", \"liwcTime\"],\n",
    "    Mean=[mean(skipmissing(col)) for col in eachcol(full_df[:,6:29])],\n",
    "    SD=[std(skipmissing(col)) for col in eachcol(full_df[:,6:29])])\n",
    "CSV.write(\"Figures/mean_sd.csv\", mean_sd)"
   ]
  },
  {
   "cell_type": "code",
   "execution_count": 16,
   "metadata": {},
   "outputs": [
    {
     "data": {
      "text/plain": [
       "24-element DataFrames.DataFrameColumns{DataFrame,AbstractArray{T,1} where T}:\n",
       " [1, 1, 1, 1, 0, 0, 0, 1, 0, 0  …  1, 0, 1, 0, 0, 0, 0, 0, 1, 1]                                                                                                     \n",
       " [0, 0, 1, 0, 0, 0, 0, 0, 0, 0  …  0, 0, 0, 0, 0, 0, 0, 0, 1, 0]                                                                                                     \n",
       " [0, 0, 0, 1, 1, 1, 1, 1, 1, 1  …  1, 1, 1, 1, 1, 1, 1, 1, 0, 0]                                                                                                     \n",
       " [0, 0, 0, 0, 0, 0, 0, 0, 0, 0  …  0, 0, 0, 0, 0, 0, 0, 0, 0, 1]                                                                                                     \n",
       " Union{Missing, Int64}[1, 1, 1, 1, 1, 1, 1, 1, 1, 1  …  1, 1, 1, 1, 1, 1, 1, 1, 1, 1]                                                                                \n",
       " [0, 0, 0, 0, 0, 0, 0, 0, 0, 0  …  1, 1, 1, 1, 1, 1, 1, 1, 1, 1]                                                                                                     \n",
       " [0, 0, 0, 0, 0, 0, 0, 0, 0, 0  …  0, 0, 0, 0, 0, 0, 0, 0, 0, 0]                                                                                                     \n",
       " [0, 0, 0, 0, 0, 0, 0, 0, 0, 0  …  1, 1, 1, 1, 1, 1, 1, 1, 1, 1]                                                                                                     \n",
       " [0, 0, 0, 0, 0, 0, 0, 0, 0, 0  …  0, 0, 0, 0, 0, 0, 0, 0, 0, 0]                                                                                                     \n",
       " [0, 0, 0, 0, 0, 0, 0, 0, 0, 0  …  0, 0, 0, 0, 0, 0, 0, 0, 0, 0]                                                                                                     \n",
       " [0, 0, 0, 0, 0, 0, 0, 0, 0, 0  …  0, 0, 0, 0, 0, 0, 0, 0, 0, 0]                                                                                                     \n",
       " Union{Missing, Int64}[1, 1, 1, 1, 1, 1, 1, 1, 1, 1  …  0, 0, 0, 0, 0, 0, 0, 0, 0, 0]                                                                                \n",
       " Union{Missing, Int64}[68, 68, 68, 68, 68, 68, 68, 68, 68, 68  …  48, 48, 48, 48, 48, 48, 48, 48, 48, 48]                                                            \n",
       " Union{Missing, Int64}[89, 89, 89, 89, 89, 89, 89, 89, 89, 89  …  100, 100, 100, 100, 100, 100, 100, 100, 100, 100]                                                  \n",
       " Union{Missing, Int64}[missing, missing, missing, missing, missing, missing, missing, missing, missing, missing  …  100, 100, 100, 100, 100, 100, 100, 100, 100, 100]\n",
       " Union{Missing, Int64}[missing, missing, missing, missing, missing, missing, missing, missing, missing, missing  …  47, 47, 47, 47, 47, 47, 47, 47, 47, 47]          \n",
       " Union{Missing, Int64}[0, 0, 0, 0, 0, 0, 0, 0, 0, 0  …  2, 2, 2, 2, 2, 2, 2, 2, 2, 2]                                                                                \n",
       " [0.0, 0.0, 0.0, 0.0, 0.0, 0.0, 0.0, 0.0, 0.0, 0.0  …  0.0, 0.0, 0.0, 0.0, 0.0, 0.0, 0.0, 0.0, 0.0, 0.0]                                                             \n",
       " [0.0, 0.0, 0.0, 0.0, 0.0, 0.0, 0.0, 0.0, 0.0, 0.0  …  0.0, 0.0, 0.0, 0.0, 0.0, 0.0, 0.0, 0.0, 0.0, 0.0]                                                             \n",
       " [0.0, 0.0, 0.0, 0.0, 0.0, 0.0, 0.0, 0.0, 0.0, 0.0  …  23.08, 23.08, 23.08, 23.08, 23.08, 23.08, 23.08, 23.08, 23.08, 23.08]                                         \n",
       " [0.0, 0.0, 0.0, 0.0, 0.0, 0.0, 0.0, 0.0, 0.0, 0.0  …  7.69, 7.69, 7.69, 7.69, 7.69, 7.69, 7.69, 7.69, 7.69, 7.69]                                                   \n",
       " [0.0, 0.0, 0.0, 0.0, 0.0, 0.0, 0.0, 0.0, 0.0, 0.0  …  0.0, 0.0, 0.0, 0.0, 0.0, 0.0, 0.0, 0.0, 0.0, 0.0]                                                             \n",
       " [0.0, 0.0, 0.0, 0.0, 0.0, 0.0, 0.0, 0.0, 0.0, 0.0  …  30.77, 30.77, 30.77, 30.77, 30.77, 30.77, 30.77, 30.77, 30.77, 30.77]                                         \n",
       " [0.0, 0.0, 0.0, 0.0, 0.0, 0.0, 0.0, 0.0, 0.0, 0.0  …  0.0, 0.0, 0.0, 0.0, 0.0, 0.0, 0.0, 0.0, 0.0, 0.0]                                                             "
      ]
     },
     "execution_count": 16,
     "metadata": {},
     "output_type": "execute_result"
    }
   ],
   "source": [
    "log_regr"
   ]
  },
  {
   "cell_type": "code",
   "execution_count": null,
   "metadata": {},
   "outputs": [],
   "source": []
  }
 ],
 "metadata": {
  "kernelspec": {
   "display_name": "Julia 1.1.0",
   "language": "julia",
   "name": "julia-1.1"
  },
  "language_info": {
   "file_extension": ".jl",
   "mimetype": "application/julia",
   "name": "julia",
   "version": "1.1.0"
  }
 },
 "nbformat": 4,
 "nbformat_minor": 2
}
