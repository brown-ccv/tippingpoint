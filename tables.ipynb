{
 "cells": [
  {
   "cell_type": "markdown",
   "metadata": {},
   "source": [
    "# Tables\n",
    "\n",
    "These are just to better view the tables of interest and do not contain any additional analyses."
   ]
  },
  {
   "cell_type": "code",
   "execution_count": 2,
   "metadata": {},
   "outputs": [
    {
     "name": "stderr",
     "output_type": "stream",
     "text": [
      "┌ Info: Recompiling stale cache file /Users/aguang/.julia/compiled/v1.1/DataFrames/AR9oZ.ji for DataFrames [a93c6f00-e57d-5684-b7b6-d8193f3e46c0]\n",
      "└ @ Base loading.jl:1184\n",
      "┌ Info: Recompiling stale cache file /Users/aguang/.julia/compiled/v1.1/CSV/HHBkp.ji for CSV [336ed68f-0bac-5ca0-87d4-7b16caf5d00b]\n",
      "└ @ Base loading.jl:1184\n",
      "┌ Info: Recompiling stale cache file /Users/aguang/.julia/compiled/v1.1/GLM/6OREG.ji for GLM [38e38edf-8417-5370-95a0-9cbb8c7f171a]\n",
      "└ @ Base loading.jl:1184\n",
      "┌ Info: Recompiling stale cache file /Users/aguang/.julia/compiled/v1.1/Gadfly/DvECm.ji for Gadfly [c91e804a-d5a3-530f-b6f0-dfbca275c004]\n",
      "└ @ Base loading.jl:1184\n"
     ]
    },
    {
     "data": {
      "text/html": [
       "<table class=\"data-frame\"><thead><tr><th></th><th>subj</th><th>graphid</th><th>tp</th><th>q</th><th>pt</th><th>risingBefore</th><th>cannotSeeAfter</th><th>downOverall</th></tr><tr><th></th><th>Int64</th><th>String</th><th>Int64⍰</th><th>String</th><th>String</th><th>Int64</th><th>Int64</th><th>Int64</th></tr></thead><tbody><p>5,696 rows × 29 columns (omitted printing of 21 columns)</p><tr><th>1</th><td>1</td><td>Q2 A</td><td>0</td><td>Q2</td><td>A</td><td>1</td><td>0</td><td>0</td></tr><tr><th>2</th><td>1</td><td>Q2 B</td><td>0</td><td>Q2</td><td>B</td><td>1</td><td>0</td><td>0</td></tr><tr><th>3</th><td>1</td><td>Q2 C</td><td>0</td><td>Q2</td><td>C</td><td>1</td><td>1</td><td>0</td></tr><tr><th>4</th><td>1</td><td>Q3 A</td><td>0</td><td>Q3</td><td>A</td><td>1</td><td>0</td><td>1</td></tr><tr><th>5</th><td>1</td><td>Q3 B</td><td>0</td><td>Q3</td><td>B</td><td>0</td><td>0</td><td>1</td></tr><tr><th>6</th><td>1</td><td>Q3 C</td><td>0</td><td>Q3</td><td>C</td><td>0</td><td>0</td><td>1</td></tr><tr><th>7</th><td>1</td><td>Q3 D</td><td>0</td><td>Q3</td><td>D</td><td>0</td><td>0</td><td>1</td></tr><tr><th>8</th><td>1</td><td>Q3 E</td><td>0</td><td>Q3</td><td>E</td><td>1</td><td>0</td><td>1</td></tr><tr><th>9</th><td>1</td><td>Q4 A</td><td>0</td><td>Q4</td><td>A</td><td>0</td><td>0</td><td>1</td></tr><tr><th>10</th><td>1</td><td>Q4 B</td><td>0</td><td>Q4</td><td>B</td><td>0</td><td>0</td><td>1</td></tr><tr><th>11</th><td>1</td><td>Q5 A</td><td>0</td><td>Q5</td><td>A</td><td>1</td><td>0</td><td>1</td></tr><tr><th>12</th><td>1</td><td>Q5 B</td><td>0</td><td>Q5</td><td>B</td><td>0</td><td>0</td><td>1</td></tr><tr><th>13</th><td>1</td><td>Q5 C</td><td>0</td><td>Q5</td><td>C</td><td>1</td><td>0</td><td>1</td></tr><tr><th>14</th><td>1</td><td>Q5 D</td><td>0</td><td>Q5</td><td>D</td><td>0</td><td>0</td><td>1</td></tr><tr><th>15</th><td>1</td><td>Q6 A</td><td>0</td><td>Q6</td><td>A</td><td>1</td><td>0</td><td>0</td></tr><tr><th>16</th><td>1</td><td>Q6 B</td><td>0</td><td>Q6</td><td>B</td><td>0</td><td>0</td><td>0</td></tr><tr><th>17</th><td>1</td><td>Q6 C</td><td>0</td><td>Q6</td><td>C</td><td>1</td><td>1</td><td>0</td></tr><tr><th>18</th><td>1</td><td>Q7 A</td><td>0</td><td>Q7</td><td>A</td><td>1</td><td>0</td><td>1</td></tr><tr><th>19</th><td>1</td><td>Q7 B</td><td>0</td><td>Q7</td><td>B</td><td>0</td><td>1</td><td>1</td></tr><tr><th>20</th><td>1</td><td>Q8 A</td><td>0</td><td>Q8</td><td>A</td><td>1</td><td>0</td><td>0</td></tr><tr><th>21</th><td>1</td><td>Q8 B</td><td>0</td><td>Q8</td><td>B</td><td>1</td><td>1</td><td>0</td></tr><tr><th>22</th><td>1</td><td>Q9 A</td><td>0</td><td>Q9</td><td>A</td><td>1</td><td>0</td><td>0</td></tr><tr><th>23</th><td>1</td><td>Q10 A</td><td>0</td><td>Q10</td><td>A</td><td>1</td><td>0</td><td>1</td></tr><tr><th>24</th><td>1</td><td>Q10 B</td><td>0</td><td>Q10</td><td>B</td><td>0</td><td>0</td><td>1</td></tr><tr><th>25</th><td>1</td><td>Q10 C</td><td>0</td><td>Q10</td><td>C</td><td>1</td><td>0</td><td>1</td></tr><tr><th>26</th><td>1</td><td>Q10 D</td><td>0</td><td>Q10</td><td>D</td><td>0</td><td>0</td><td>1</td></tr><tr><th>27</th><td>1</td><td>Q11 A</td><td>0</td><td>Q11</td><td>A</td><td>0</td><td>0</td><td>1</td></tr><tr><th>28</th><td>1</td><td>Q11 B</td><td>0</td><td>Q11</td><td>B</td><td>0</td><td>0</td><td>1</td></tr><tr><th>29</th><td>1</td><td>Q11 C</td><td>0</td><td>Q11</td><td>C</td><td>0</td><td>0</td><td>1</td></tr><tr><th>30</th><td>1</td><td>Q11 D</td><td>0</td><td>Q11</td><td>D</td><td>0</td><td>0</td><td>1</td></tr><tr><th>&vellip;</th><td>&vellip;</td><td>&vellip;</td><td>&vellip;</td><td>&vellip;</td><td>&vellip;</td><td>&vellip;</td><td>&vellip;</td><td>&vellip;</td></tr></tbody></table>"
      ],
      "text/latex": [
       "\\begin{tabular}{r|ccccccccc}\n",
       "\t& subj & graphid & tp & q & pt & risingBefore & cannotSeeAfter & downOverall & \\\\\n",
       "\t\\hline\n",
       "\t& Int64 & String & Int64⍰ & String & String & Int64 & Int64 & Int64 & \\\\\n",
       "\t\\hline\n",
       "\t1 & 1 & Q2 A & 0 & Q2 & A & 1 & 0 & 0 & $\\dots$ \\\\\n",
       "\t2 & 1 & Q2 B & 0 & Q2 & B & 1 & 0 & 0 & $\\dots$ \\\\\n",
       "\t3 & 1 & Q2 C & 0 & Q2 & C & 1 & 1 & 0 & $\\dots$ \\\\\n",
       "\t4 & 1 & Q3 A & 0 & Q3 & A & 1 & 0 & 1 & $\\dots$ \\\\\n",
       "\t5 & 1 & Q3 B & 0 & Q3 & B & 0 & 0 & 1 & $\\dots$ \\\\\n",
       "\t6 & 1 & Q3 C & 0 & Q3 & C & 0 & 0 & 1 & $\\dots$ \\\\\n",
       "\t7 & 1 & Q3 D & 0 & Q3 & D & 0 & 0 & 1 & $\\dots$ \\\\\n",
       "\t8 & 1 & Q3 E & 0 & Q3 & E & 1 & 0 & 1 & $\\dots$ \\\\\n",
       "\t9 & 1 & Q4 A & 0 & Q4 & A & 0 & 0 & 1 & $\\dots$ \\\\\n",
       "\t10 & 1 & Q4 B & 0 & Q4 & B & 0 & 0 & 1 & $\\dots$ \\\\\n",
       "\t11 & 1 & Q5 A & 0 & Q5 & A & 1 & 0 & 1 & $\\dots$ \\\\\n",
       "\t12 & 1 & Q5 B & 0 & Q5 & B & 0 & 0 & 1 & $\\dots$ \\\\\n",
       "\t13 & 1 & Q5 C & 0 & Q5 & C & 1 & 0 & 1 & $\\dots$ \\\\\n",
       "\t14 & 1 & Q5 D & 0 & Q5 & D & 0 & 0 & 1 & $\\dots$ \\\\\n",
       "\t15 & 1 & Q6 A & 0 & Q6 & A & 1 & 0 & 0 & $\\dots$ \\\\\n",
       "\t16 & 1 & Q6 B & 0 & Q6 & B & 0 & 0 & 0 & $\\dots$ \\\\\n",
       "\t17 & 1 & Q6 C & 0 & Q6 & C & 1 & 1 & 0 & $\\dots$ \\\\\n",
       "\t18 & 1 & Q7 A & 0 & Q7 & A & 1 & 0 & 1 & $\\dots$ \\\\\n",
       "\t19 & 1 & Q7 B & 0 & Q7 & B & 0 & 1 & 1 & $\\dots$ \\\\\n",
       "\t20 & 1 & Q8 A & 0 & Q8 & A & 1 & 0 & 0 & $\\dots$ \\\\\n",
       "\t21 & 1 & Q8 B & 0 & Q8 & B & 1 & 1 & 0 & $\\dots$ \\\\\n",
       "\t22 & 1 & Q9 A & 0 & Q9 & A & 1 & 0 & 0 & $\\dots$ \\\\\n",
       "\t23 & 1 & Q10 A & 0 & Q10 & A & 1 & 0 & 1 & $\\dots$ \\\\\n",
       "\t24 & 1 & Q10 B & 0 & Q10 & B & 0 & 0 & 1 & $\\dots$ \\\\\n",
       "\t25 & 1 & Q10 C & 0 & Q10 & C & 1 & 0 & 1 & $\\dots$ \\\\\n",
       "\t26 & 1 & Q10 D & 0 & Q10 & D & 0 & 0 & 1 & $\\dots$ \\\\\n",
       "\t27 & 1 & Q11 A & 0 & Q11 & A & 0 & 0 & 1 & $\\dots$ \\\\\n",
       "\t28 & 1 & Q11 B & 0 & Q11 & B & 0 & 0 & 1 & $\\dots$ \\\\\n",
       "\t29 & 1 & Q11 C & 0 & Q11 & C & 0 & 0 & 1 & $\\dots$ \\\\\n",
       "\t30 & 1 & Q11 D & 0 & Q11 & D & 0 & 0 & 1 & $\\dots$ \\\\\n",
       "\t$\\dots$ & $\\dots$ & $\\dots$ & $\\dots$ & $\\dots$ & $\\dots$ & $\\dots$ & $\\dots$ & $\\dots$ &  \\\\\n",
       "\\end{tabular}\n"
      ],
      "text/plain": [
       "5696×29 DataFrame. Omitted printing of 23 columns\n",
       "│ Row  │ subj  │ graphid │ tp     │ q      │ pt     │ risingBefore │\n",
       "│      │ \u001b[90mInt64\u001b[39m │ \u001b[90mString\u001b[39m  │ \u001b[90mInt64⍰\u001b[39m │ \u001b[90mString\u001b[39m │ \u001b[90mString\u001b[39m │ \u001b[90mInt64\u001b[39m        │\n",
       "├──────┼───────┼─────────┼────────┼────────┼────────┼──────────────┤\n",
       "│ 1    │ 1     │ Q2 A    │ 0      │ Q2     │ A      │ 1            │\n",
       "│ 2    │ 1     │ Q2 B    │ 0      │ Q2     │ B      │ 1            │\n",
       "│ 3    │ 1     │ Q2 C    │ 0      │ Q2     │ C      │ 1            │\n",
       "│ 4    │ 1     │ Q3 A    │ 0      │ Q3     │ A      │ 1            │\n",
       "│ 5    │ 1     │ Q3 B    │ 0      │ Q3     │ B      │ 0            │\n",
       "│ 6    │ 1     │ Q3 C    │ 0      │ Q3     │ C      │ 0            │\n",
       "│ 7    │ 1     │ Q3 D    │ 0      │ Q3     │ D      │ 0            │\n",
       "│ 8    │ 1     │ Q3 E    │ 0      │ Q3     │ E      │ 1            │\n",
       "│ 9    │ 1     │ Q4 A    │ 0      │ Q4     │ A      │ 0            │\n",
       "│ 10   │ 1     │ Q4 B    │ 0      │ Q4     │ B      │ 0            │\n",
       "⋮\n",
       "│ 5686 │ 178   │ Q9 A    │ 0      │ Q9     │ A      │ 1            │\n",
       "│ 5687 │ 178   │ Q10 A   │ 0      │ Q10    │ A      │ 1            │\n",
       "│ 5688 │ 178   │ Q10 B   │ 1      │ Q10    │ B      │ 0            │\n",
       "│ 5689 │ 178   │ Q10 C   │ 1      │ Q10    │ C      │ 1            │\n",
       "│ 5690 │ 178   │ Q10 D   │ 1      │ Q10    │ D      │ 0            │\n",
       "│ 5691 │ 178   │ Q11 A   │ 1      │ Q11    │ A      │ 0            │\n",
       "│ 5692 │ 178   │ Q11 B   │ 0      │ Q11    │ B      │ 0            │\n",
       "│ 5693 │ 178   │ Q11 C   │ 1      │ Q11    │ C      │ 0            │\n",
       "│ 5694 │ 178   │ Q11 D   │ 1      │ Q11    │ D      │ 0            │\n",
       "│ 5695 │ 178   │ Q12 A   │ 0      │ Q12    │ A      │ 1            │\n",
       "│ 5696 │ 178   │ Q13 A   │ 0      │ Q13    │ A      │ 1            │"
      ]
     },
     "execution_count": 2,
     "metadata": {},
     "output_type": "execute_result"
    },
    {
     "name": "stderr",
     "output_type": "stream",
     "text": [
      "┌ Warning: `T` is deprecated, use `nonmissingtype` instead.\n",
      "│   caller = compacttype(::Type, ::Int64) at show.jl:39\n",
      "└ @ DataFrames /Users/aguang/.julia/packages/DataFrames/Iyo5L/src/abstractdataframe/show.jl:39\n"
     ]
    }
   ],
   "source": [
    "using DataFrames\n",
    "using CSV\n",
    "using GLM\n",
    "using Gadfly\n",
    "using Statistics\n",
    "using NamedArrays\n",
    "\n",
    "DATA=\"/Users/aguang/CORE/tippingpoint/tippingpoint/data\"\n",
    "df_dv = CSV.File(joinpath(DATA,\"df_dv.dat\"),normalizenames=true) |> DataFrame!\n",
    "df_gc = CSV.File(joinpath(DATA,\"df_gc.dat\"),normalizenames=true) |> DataFrame!\n",
    "df_subject = CSV.File(joinpath(DATA,\"df_subject.dat\"),normalizenames=true) |> DataFrame!\n",
    "full_df = CSV.File(joinpath(DATA,\"full_df.dat\"),normalizenames=true) |> DataFrame!"
   ]
  },
  {
   "cell_type": "markdown",
   "metadata": {},
   "source": [
    "# Descriptive statistics"
   ]
  },
  {
   "cell_type": "code",
   "execution_count": 18,
   "metadata": {},
   "outputs": [
    {
     "data": {
      "text/plain": [
       "\"Figures/mean_sd.csv\""
      ]
     },
     "execution_count": 18,
     "metadata": {},
     "output_type": "execute_result"
    }
   ],
   "source": [
    "mean_sd = DataFrame(Variables=[\"risingBefore\", \"cannotSeeAfter\",\n",
    "        \"downOverall\", \"bellOverall\", \"complexOverall\", \"uniBrown\", \"expExec\", \"tpChange\", \"tpRate\", \"tpDir\", \"tpNoReturn\",\n",
    "            \"tellMgr\", \"impChange\", \"impRise\", \"impFall\", \"impPeriodic\", \"numOtherTP\",\n",
    "            \"liwcPosemo\", \"liwcNegemo\", \"liwcCause\", \"liwcFocusPre\", \"liwcFocusFut\",\n",
    "            \"liwcRelativ\", \"liwcTime\"],\n",
    "    Mean=[mean(skipmissing(col)) for col in eachcol(full_df[:,6:29])],\n",
    "    SD=[std(skipmissing(col)) for col in eachcol(full_df[:,6:29])])\n",
    "CSV.write(\"Figures/mean_sd.csv\", mean_sd)"
   ]
  },
  {
   "cell_type": "code",
   "execution_count": 21,
   "metadata": {},
   "outputs": [
    {
     "data": {
      "text/html": [
       "<table class=\"data-frame\"><thead><tr><th></th><th>Variables</th><th>Mean</th><th>SD</th></tr><tr><th></th><th>String</th><th>Float64</th><th>Float64</th></tr></thead><tbody><p>24 rows × 3 columns</p><tr><th>1</th><td>risingBefore</td><td>0.53125</td><td>0.499066</td></tr><tr><th>2</th><td>cannotSeeAfter</td><td>0.15625</td><td>0.363124</td></tr><tr><th>3</th><td>downOverall</td><td>0.65625</td><td>0.475001</td></tr><tr><th>4</th><td>bellOverall</td><td>0.0625</td><td>0.242083</td></tr><tr><th>5</th><td>complexOverall</td><td>0.896552</td><td>0.304573</td></tr><tr><th>6</th><td>uniBrown</td><td>0.280899</td><td>0.449478</td></tr><tr><th>7</th><td>expExec</td><td>0.134831</td><td>0.341573</td></tr><tr><th>8</th><td>tpChange</td><td>0.904494</td><td>0.293938</td></tr><tr><th>9</th><td>tpRate</td><td>0.241573</td><td>0.428074</td></tr><tr><th>10</th><td>tpDir</td><td>0.393258</td><td>0.488516</td></tr><tr><th>11</th><td>tpNoReturn</td><td>0.146067</td><td>0.353205</td></tr><tr><th>12</th><td>tellMgr</td><td>0.834437</td><td>0.371726</td></tr><tr><th>13</th><td>impChange</td><td>64.1355</td><td>27.6471</td></tr><tr><th>14</th><td>impRise</td><td>66.8571</td><td>29.1876</td></tr><tr><th>15</th><td>impFall</td><td>70.1733</td><td>28.402</td></tr><tr><th>16</th><td>impPeriodic</td><td>50.7883</td><td>28.8491</td></tr><tr><th>17</th><td>numOtherTP</td><td>1.87356</td><td>2.38939</td></tr><tr><th>18</th><td>liwcPosemo</td><td>2.03837</td><td>6.30897</td></tr><tr><th>19</th><td>liwcNegemo</td><td>1.17725</td><td>3.69967</td></tr><tr><th>20</th><td>liwcCause</td><td>6.54534</td><td>8.63196</td></tr><tr><th>21</th><td>liwcFocusPre</td><td>9.06337</td><td>10.0988</td></tr><tr><th>22</th><td>liwcFocusFut</td><td>1.03787</td><td>3.16476</td></tr><tr><th>23</th><td>liwcRelativ</td><td>28.1888</td><td>14.1656</td></tr><tr><th>24</th><td>liwcTime</td><td>5.32584</td><td>7.32107</td></tr></tbody></table>"
      ],
      "text/latex": [
       "\\begin{tabular}{r|ccc}\n",
       "\t& Variables & Mean & SD\\\\\n",
       "\t\\hline\n",
       "\t& String & Float64 & Float64\\\\\n",
       "\t\\hline\n",
       "\t1 & risingBefore & 0.53125 & 0.499066 \\\\\n",
       "\t2 & cannotSeeAfter & 0.15625 & 0.363124 \\\\\n",
       "\t3 & downOverall & 0.65625 & 0.475001 \\\\\n",
       "\t4 & bellOverall & 0.0625 & 0.242083 \\\\\n",
       "\t5 & complexOverall & 0.896552 & 0.304573 \\\\\n",
       "\t6 & uniBrown & 0.280899 & 0.449478 \\\\\n",
       "\t7 & expExec & 0.134831 & 0.341573 \\\\\n",
       "\t8 & tpChange & 0.904494 & 0.293938 \\\\\n",
       "\t9 & tpRate & 0.241573 & 0.428074 \\\\\n",
       "\t10 & tpDir & 0.393258 & 0.488516 \\\\\n",
       "\t11 & tpNoReturn & 0.146067 & 0.353205 \\\\\n",
       "\t12 & tellMgr & 0.834437 & 0.371726 \\\\\n",
       "\t13 & impChange & 64.1355 & 27.6471 \\\\\n",
       "\t14 & impRise & 66.8571 & 29.1876 \\\\\n",
       "\t15 & impFall & 70.1733 & 28.402 \\\\\n",
       "\t16 & impPeriodic & 50.7883 & 28.8491 \\\\\n",
       "\t17 & numOtherTP & 1.87356 & 2.38939 \\\\\n",
       "\t18 & liwcPosemo & 2.03837 & 6.30897 \\\\\n",
       "\t19 & liwcNegemo & 1.17725 & 3.69967 \\\\\n",
       "\t20 & liwcCause & 6.54534 & 8.63196 \\\\\n",
       "\t21 & liwcFocusPre & 9.06337 & 10.0988 \\\\\n",
       "\t22 & liwcFocusFut & 1.03787 & 3.16476 \\\\\n",
       "\t23 & liwcRelativ & 28.1888 & 14.1656 \\\\\n",
       "\t24 & liwcTime & 5.32584 & 7.32107 \\\\\n",
       "\\end{tabular}\n"
      ],
      "text/plain": [
       "24×3 DataFrame\n",
       "│ Row │ Variables      │ Mean     │ SD       │\n",
       "│     │ \u001b[90mString\u001b[39m         │ \u001b[90mFloat64\u001b[39m  │ \u001b[90mFloat64\u001b[39m  │\n",
       "├─────┼────────────────┼──────────┼──────────┤\n",
       "│ 1   │ risingBefore   │ 0.53125  │ 0.499066 │\n",
       "│ 2   │ cannotSeeAfter │ 0.15625  │ 0.363124 │\n",
       "│ 3   │ downOverall    │ 0.65625  │ 0.475001 │\n",
       "│ 4   │ bellOverall    │ 0.0625   │ 0.242083 │\n",
       "│ 5   │ complexOverall │ 0.896552 │ 0.304573 │\n",
       "│ 6   │ uniBrown       │ 0.280899 │ 0.449478 │\n",
       "│ 7   │ expExec        │ 0.134831 │ 0.341573 │\n",
       "│ 8   │ tpChange       │ 0.904494 │ 0.293938 │\n",
       "│ 9   │ tpRate         │ 0.241573 │ 0.428074 │\n",
       "│ 10  │ tpDir          │ 0.393258 │ 0.488516 │\n",
       "⋮\n",
       "│ 14  │ impRise        │ 66.8571  │ 29.1876  │\n",
       "│ 15  │ impFall        │ 70.1733  │ 28.402   │\n",
       "│ 16  │ impPeriodic    │ 50.7883  │ 28.8491  │\n",
       "│ 17  │ numOtherTP     │ 1.87356  │ 2.38939  │\n",
       "│ 18  │ liwcPosemo     │ 2.03837  │ 6.30897  │\n",
       "│ 19  │ liwcNegemo     │ 1.17725  │ 3.69967  │\n",
       "│ 20  │ liwcCause      │ 6.54534  │ 8.63196  │\n",
       "│ 21  │ liwcFocusPre   │ 9.06337  │ 10.0988  │\n",
       "│ 22  │ liwcFocusFut   │ 1.03787  │ 3.16476  │\n",
       "│ 23  │ liwcRelativ    │ 28.1888  │ 14.1656  │\n",
       "│ 24  │ liwcTime       │ 5.32584  │ 7.32107  │"
      ]
     },
     "execution_count": 21,
     "metadata": {},
     "output_type": "execute_result"
    }
   ],
   "source": [
    "mean_sd"
   ]
  },
  {
   "cell_type": "markdown",
   "metadata": {},
   "source": [
    "# Dropping missing data\n",
    "\n",
    "Since most of the missing data came from 9 variables: importance of sustained change, importance rise, importance fall, importance periodic nature of occurrence, LIWC def cause, LIWC def focuspresent, LIWC def focusfuture, LIWC def relativ, LIWC def time, we decided to drop them.\n",
    "\n",
    "The results of the logistic regression after dropping the columns increases the significance of `expExec` which supports **Hypothesis 3:** more experienced subjects are less likely to declare a tipping point. It also increases the significance of `liwcPosemo`. **Hypothesis 1** and **Hypothesis 2** are also supported."
   ]
  },
  {
   "cell_type": "code",
   "execution_count": 19,
   "metadata": {},
   "outputs": [
    {
     "data": {
      "text/html": [
       "<table class=\"data-frame\"><thead><tr><th></th><th>OR</th><th>Lower95</th><th>Upper95</th><th>Variable</th></tr><tr><th></th><th>Float64</th><th>Float64</th><th>Float64</th><th>String</th></tr></thead><tbody><p>15 rows × 4 columns</p><tr><th>1</th><td>0.472296</td><td>0.296731</td><td>0.751737</td><td>Intercept</td></tr><tr><th>2</th><td>2.41254</td><td>2.06124</td><td>2.82371</td><td>Rising Before</td></tr><tr><th>3</th><td>0.560543</td><td>0.445231</td><td>0.705719</td><td>Cannot see after</td></tr><tr><th>4</th><td>1.54685</td><td>1.23363</td><td>1.9396</td><td>Down overall</td></tr><tr><th>5</th><td>1.48527</td><td>1.06279</td><td>2.07569</td><td>Bell overall</td></tr><tr><th>6</th><td>1.07136</td><td>0.840729</td><td>1.36527</td><td>Complex overall</td></tr><tr><th>7</th><td>0.55315</td><td>0.458188</td><td>0.667793</td><td>Experience (Executive or Undergrad)</td></tr><tr><th>8</th><td>1.27785</td><td>1.01789</td><td>1.6042</td><td>tp change</td></tr><tr><th>9</th><td>1.11814</td><td>0.964336</td><td>1.29648</td><td>tp rate</td></tr><tr><th>10</th><td>0.971302</td><td>0.851118</td><td>1.10846</td><td>tpdir</td></tr><tr><th>11</th><td>0.943477</td><td>0.795391</td><td>1.11913</td><td>tp no return</td></tr><tr><th>12</th><td>0.973061</td><td>0.817401</td><td>1.15837</td><td>tell manager</td></tr><tr><th>13</th><td>0.986018</td><td>0.961742</td><td>1.01091</td><td>numOtherTP</td></tr><tr><th>14</th><td>0.959899</td><td>0.944205</td><td>0.975855</td><td>liwcPosemo</td></tr><tr><th>15</th><td>0.977137</td><td>0.959623</td><td>0.994971</td><td>Negemo</td></tr></tbody></table>"
      ],
      "text/latex": [
       "\\begin{tabular}{r|cccc}\n",
       "\t& OR & Lower95 & Upper95 & Variable\\\\\n",
       "\t\\hline\n",
       "\t& Float64 & Float64 & Float64 & String\\\\\n",
       "\t\\hline\n",
       "\t1 & 0.472296 & 0.296731 & 0.751737 & Intercept \\\\\n",
       "\t2 & 2.41254 & 2.06124 & 2.82371 & Rising Before \\\\\n",
       "\t3 & 0.560543 & 0.445231 & 0.705719 & Cannot see after \\\\\n",
       "\t4 & 1.54685 & 1.23363 & 1.9396 & Down overall \\\\\n",
       "\t5 & 1.48527 & 1.06279 & 2.07569 & Bell overall \\\\\n",
       "\t6 & 1.07136 & 0.840729 & 1.36527 & Complex overall \\\\\n",
       "\t7 & 0.55315 & 0.458188 & 0.667793 & Experience (Executive or Undergrad) \\\\\n",
       "\t8 & 1.27785 & 1.01789 & 1.6042 & tp change \\\\\n",
       "\t9 & 1.11814 & 0.964336 & 1.29648 & tp rate \\\\\n",
       "\t10 & 0.971302 & 0.851118 & 1.10846 & tpdir \\\\\n",
       "\t11 & 0.943477 & 0.795391 & 1.11913 & tp no return \\\\\n",
       "\t12 & 0.973061 & 0.817401 & 1.15837 & tell manager \\\\\n",
       "\t13 & 0.986018 & 0.961742 & 1.01091 & numOtherTP \\\\\n",
       "\t14 & 0.959899 & 0.944205 & 0.975855 & liwcPosemo \\\\\n",
       "\t15 & 0.977137 & 0.959623 & 0.994971 & Negemo \\\\\n",
       "\\end{tabular}\n"
      ],
      "text/plain": [
       "15×4 DataFrame\n",
       "│ Row │ OR       │ Lower95  │ Upper95  │ Variable                            │\n",
       "│     │ \u001b[90mFloat64\u001b[39m  │ \u001b[90mFloat64\u001b[39m  │ \u001b[90mFloat64\u001b[39m  │ \u001b[90mString\u001b[39m                              │\n",
       "├─────┼──────────┼──────────┼──────────┼─────────────────────────────────────┤\n",
       "│ 1   │ 0.472296 │ 0.296731 │ 0.751737 │ Intercept                           │\n",
       "│ 2   │ 2.41254  │ 2.06124  │ 2.82371  │ Rising Before                       │\n",
       "│ 3   │ 0.560543 │ 0.445231 │ 0.705719 │ Cannot see after                    │\n",
       "│ 4   │ 1.54685  │ 1.23363  │ 1.9396   │ Down overall                        │\n",
       "│ 5   │ 1.48527  │ 1.06279  │ 2.07569  │ Bell overall                        │\n",
       "│ 6   │ 1.07136  │ 0.840729 │ 1.36527  │ Complex overall                     │\n",
       "│ 7   │ 0.55315  │ 0.458188 │ 0.667793 │ Experience (Executive or Undergrad) │\n",
       "│ 8   │ 1.27785  │ 1.01789  │ 1.6042   │ tp change                           │\n",
       "│ 9   │ 1.11814  │ 0.964336 │ 1.29648  │ tp rate                             │\n",
       "│ 10  │ 0.971302 │ 0.851118 │ 1.10846  │ tpdir                               │\n",
       "│ 11  │ 0.943477 │ 0.795391 │ 1.11913  │ tp no return                        │\n",
       "│ 12  │ 0.973061 │ 0.817401 │ 1.15837  │ tell manager                        │\n",
       "│ 13  │ 0.986018 │ 0.961742 │ 1.01091  │ numOtherTP                          │\n",
       "│ 14  │ 0.959899 │ 0.944205 │ 0.975855 │ liwcPosemo                          │\n",
       "│ 15  │ 0.977137 │ 0.959623 │ 0.994971 │ Negemo                              │"
      ]
     },
     "execution_count": 19,
     "metadata": {},
     "output_type": "execute_result"
    }
   ],
   "source": [
    "dropped = select(full_df, Not([:impChange,:impRise,:impFall,:impPeriodic,:liwcCause,:liwcFocusPre,:liwcFocusFut,:liwcRelativ,:liwcTime]))\n",
    "hp_dropped = glm(@formula(tp ~ risingBefore + cannotSeeAfter + downOverall + bellOverall +\n",
    "        complexOverall + expExec + tpChange + tpRate + tpDir + tpNoReturn +\n",
    "        tellMgr + numOtherTP + liwcPosemo + liwcNegemo), dropped, Binomial(), LogitLink())\n",
    "df_hp=DataFrame(OR=exp.(coef(hp_dropped)),Lower95=exp.(confint(hp_dropped)[:,1]),Upper95=exp.(confint(hp_dropped)[:,2]))\n",
    "df_hp.Variable=[\"Intercept\", \"Rising Before\", \"Cannot see after\", \"Down overall\",\n",
    "    \"Bell overall\", \"Complex overall\", \"Experience (Executive or Undergrad)\",\n",
    "    \"tp change\", \"tp rate\", \"tpdir\", \"tp no return\", \"tell manager\",\n",
    "    \"numOtherTP\", \"liwcPosemo\", \"Negemo\"]\n",
    "CSV.write(\"Figures/odds_ratio.csv\", df_hp)\n",
    "df_hp"
   ]
  },
  {
   "cell_type": "code",
   "execution_count": 20,
   "metadata": {},
   "outputs": [
    {
     "data": {
      "text/plain": [
       "StatsModels.TableRegressionModel{GeneralizedLinearModel{GLM.GlmResp{Array{Float64,1},Binomial{Float64},LogitLink},GLM.DensePredChol{Float64,LinearAlgebra.Cholesky{Float64,Array{Float64,2}}}},Array{Float64,2}}\n",
       "\n",
       "tp ~ 1 + risingBefore + cannotSeeAfter + downOverall + bellOverall + complexOverall + expExec + tpChange + tpRate + tpDir + tpNoReturn + tellMgr + numOtherTP + liwcPosemo + liwcNegemo\n",
       "\n",
       "Coefficients:\n",
       "────────────────────────────────────────────────────────────────────────────────────\n",
       "                  Estimate  Std. Error    z value  Pr(>|z|)   Lower 95%    Upper 95%\n",
       "────────────────────────────────────────────────────────────────────────────────────\n",
       "(Intercept)     -0.750149   0.237137    -3.16335     0.0016  -1.21493    -0.285369  \n",
       "risingBefore     0.880678   0.0802935   10.9682      <1e-27   0.723306    1.03805   \n",
       "cannotSeeAfter  -0.578849   0.117508    -4.92603     <1e-6   -0.809161   -0.348537  \n",
       "downOverall      0.436222   0.115441     3.77873     0.0002   0.209961    0.662483  \n",
       "bellOverall      0.395594   0.170767     2.31657     0.0205   0.0608965   0.730291  \n",
       "complexOverall   0.0689318  0.123685     0.557319    0.5773  -0.173485    0.311349  \n",
       "expExec         -0.592126   0.0960981   -6.16169     <1e-9   -0.780475   -0.403778  \n",
       "tpChange         0.245181   0.116046     2.11279     0.0346   0.0177348   0.472628  \n",
       "tpRate           0.111669   0.0755038    1.47898     0.1391  -0.0363158   0.259654  \n",
       "tpDir           -0.0291181  0.0673925   -0.432067    0.6657  -0.161205    0.102969  \n",
       "tpNoReturn      -0.0581829  0.0871133   -0.6679      0.5042  -0.228922    0.112556  \n",
       "tellMgr         -0.0273082  0.0889393   -0.307043    0.7588  -0.201626    0.14701   \n",
       "numOtherTP      -0.0140805  0.0127189   -1.10705     0.2683  -0.039009    0.0108481 \n",
       "liwcPosemo      -0.0409269  0.00841103  -4.86586     <1e-5   -0.0574122  -0.0244416 \n",
       "liwcNegemo      -0.0231284  0.00922792  -2.50635     0.0122  -0.0412148  -0.00504201\n",
       "────────────────────────────────────────────────────────────────────────────────────"
      ]
     },
     "execution_count": 20,
     "metadata": {},
     "output_type": "execute_result"
    }
   ],
   "source": [
    "hp_dropped"
   ]
  },
  {
   "cell_type": "code",
   "execution_count": null,
   "metadata": {},
   "outputs": [],
   "source": [
    "# OR table with just significant variables\n",
    "#just_sig = df_hp[!,[:risingBefore,]]\n",
    "#df_hp=DataFrame(OR=exp.(coef(hp_dropped)),Lower95=exp.(confint(hp_dropped)[:,1]),Upper95=exp.(confint(hp_dropped)[:,2]))\n",
    "#df_hp.Variable=[\"Intercept\", \"Rising Before\", \"Cannot see after\", \"Down overall\",\n",
    "#    \"Bell overall\", \"Complex overall\", \"Experience (Executive or Undergrad)\",\n",
    "#    \"tp change\", \"tp rate\", \"tpdir\", \"tp no return\", \"tell manager\",\n",
    "#    \"numOtherTP\", \"liwcPosemo\", \"Negemo\"]\n",
    "#CSV.write(\"Figures/odds_ratio.csv\", df_hp)\n",
    "#df_hp"
   ]
  }
 ],
 "metadata": {
  "kernelspec": {
   "display_name": "Julia 1.1.0",
   "language": "julia",
   "name": "julia-1.1"
  },
  "language_info": {
   "file_extension": ".jl",
   "mimetype": "application/julia",
   "name": "julia",
   "version": "1.1.0"
  }
 },
 "nbformat": 4,
 "nbformat_minor": 2
}
