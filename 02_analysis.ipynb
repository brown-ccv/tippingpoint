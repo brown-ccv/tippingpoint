{
 "cells": [
  {
   "cell_type": "markdown",
   "metadata": {},
   "source": [
    "# Analysis\n",
    "\n",
    "In this section we will provide some descriptive statistics, including missing data, means and standard deviations, and a logistic regression on the full dataset."
   ]
  },
  {
   "cell_type": "code",
   "execution_count": 1,
   "metadata": {},
   "outputs": [
    {
     "data": {
      "text/html": [
       "<table class=\"data-frame\"><thead><tr><th></th><th>subj</th><th>graphid</th><th>tp</th><th>q</th><th>pt</th><th>risingBefore</th><th>cannotSeeAfter</th><th>downOverall</th></tr><tr><th></th><th>Int64</th><th>String</th><th>Int64⍰</th><th>String</th><th>String</th><th>Int64</th><th>Int64</th><th>Int64</th></tr></thead><tbody><p>5,696 rows × 29 columns (omitted printing of 21 columns)</p><tr><th>1</th><td>1</td><td>Q2 A</td><td>0</td><td>Q2</td><td>A</td><td>1</td><td>0</td><td>0</td></tr><tr><th>2</th><td>1</td><td>Q2 B</td><td>0</td><td>Q2</td><td>B</td><td>1</td><td>0</td><td>0</td></tr><tr><th>3</th><td>1</td><td>Q2 C</td><td>0</td><td>Q2</td><td>C</td><td>1</td><td>1</td><td>0</td></tr><tr><th>4</th><td>1</td><td>Q3 A</td><td>0</td><td>Q3</td><td>A</td><td>1</td><td>0</td><td>1</td></tr><tr><th>5</th><td>1</td><td>Q3 B</td><td>0</td><td>Q3</td><td>B</td><td>0</td><td>0</td><td>1</td></tr><tr><th>6</th><td>1</td><td>Q3 C</td><td>0</td><td>Q3</td><td>C</td><td>0</td><td>0</td><td>1</td></tr><tr><th>7</th><td>1</td><td>Q3 D</td><td>0</td><td>Q3</td><td>D</td><td>0</td><td>0</td><td>1</td></tr><tr><th>8</th><td>1</td><td>Q3 E</td><td>0</td><td>Q3</td><td>E</td><td>1</td><td>0</td><td>1</td></tr><tr><th>9</th><td>1</td><td>Q4 A</td><td>0</td><td>Q4</td><td>A</td><td>0</td><td>0</td><td>1</td></tr><tr><th>10</th><td>1</td><td>Q4 B</td><td>0</td><td>Q4</td><td>B</td><td>0</td><td>0</td><td>1</td></tr><tr><th>11</th><td>1</td><td>Q5 A</td><td>0</td><td>Q5</td><td>A</td><td>1</td><td>0</td><td>1</td></tr><tr><th>12</th><td>1</td><td>Q5 B</td><td>0</td><td>Q5</td><td>B</td><td>0</td><td>0</td><td>1</td></tr><tr><th>13</th><td>1</td><td>Q5 C</td><td>0</td><td>Q5</td><td>C</td><td>1</td><td>0</td><td>1</td></tr><tr><th>14</th><td>1</td><td>Q5 D</td><td>0</td><td>Q5</td><td>D</td><td>0</td><td>0</td><td>1</td></tr><tr><th>15</th><td>1</td><td>Q6 A</td><td>0</td><td>Q6</td><td>A</td><td>1</td><td>0</td><td>0</td></tr><tr><th>16</th><td>1</td><td>Q6 B</td><td>0</td><td>Q6</td><td>B</td><td>0</td><td>0</td><td>0</td></tr><tr><th>17</th><td>1</td><td>Q6 C</td><td>0</td><td>Q6</td><td>C</td><td>1</td><td>1</td><td>0</td></tr><tr><th>18</th><td>1</td><td>Q7 A</td><td>0</td><td>Q7</td><td>A</td><td>1</td><td>0</td><td>1</td></tr><tr><th>19</th><td>1</td><td>Q7 B</td><td>0</td><td>Q7</td><td>B</td><td>0</td><td>1</td><td>1</td></tr><tr><th>20</th><td>1</td><td>Q8 A</td><td>0</td><td>Q8</td><td>A</td><td>1</td><td>0</td><td>0</td></tr><tr><th>21</th><td>1</td><td>Q8 B</td><td>0</td><td>Q8</td><td>B</td><td>1</td><td>1</td><td>0</td></tr><tr><th>22</th><td>1</td><td>Q9 A</td><td>0</td><td>Q9</td><td>A</td><td>1</td><td>0</td><td>0</td></tr><tr><th>23</th><td>1</td><td>Q10 A</td><td>0</td><td>Q10</td><td>A</td><td>1</td><td>0</td><td>1</td></tr><tr><th>24</th><td>1</td><td>Q10 B</td><td>0</td><td>Q10</td><td>B</td><td>0</td><td>0</td><td>1</td></tr><tr><th>25</th><td>1</td><td>Q10 C</td><td>0</td><td>Q10</td><td>C</td><td>1</td><td>0</td><td>1</td></tr><tr><th>26</th><td>1</td><td>Q10 D</td><td>0</td><td>Q10</td><td>D</td><td>0</td><td>0</td><td>1</td></tr><tr><th>27</th><td>1</td><td>Q11 A</td><td>0</td><td>Q11</td><td>A</td><td>0</td><td>0</td><td>1</td></tr><tr><th>28</th><td>1</td><td>Q11 B</td><td>0</td><td>Q11</td><td>B</td><td>0</td><td>0</td><td>1</td></tr><tr><th>29</th><td>1</td><td>Q11 C</td><td>0</td><td>Q11</td><td>C</td><td>0</td><td>0</td><td>1</td></tr><tr><th>30</th><td>1</td><td>Q11 D</td><td>0</td><td>Q11</td><td>D</td><td>0</td><td>0</td><td>1</td></tr><tr><th>&vellip;</th><td>&vellip;</td><td>&vellip;</td><td>&vellip;</td><td>&vellip;</td><td>&vellip;</td><td>&vellip;</td><td>&vellip;</td><td>&vellip;</td></tr></tbody></table>"
      ],
      "text/latex": [
       "\\begin{tabular}{r|ccccccccc}\n",
       "\t& subj & graphid & tp & q & pt & risingBefore & cannotSeeAfter & downOverall & \\\\\n",
       "\t\\hline\n",
       "\t& Int64 & String & Int64⍰ & String & String & Int64 & Int64 & Int64 & \\\\\n",
       "\t\\hline\n",
       "\t1 & 1 & Q2 A & 0 & Q2 & A & 1 & 0 & 0 & $\\dots$ \\\\\n",
       "\t2 & 1 & Q2 B & 0 & Q2 & B & 1 & 0 & 0 & $\\dots$ \\\\\n",
       "\t3 & 1 & Q2 C & 0 & Q2 & C & 1 & 1 & 0 & $\\dots$ \\\\\n",
       "\t4 & 1 & Q3 A & 0 & Q3 & A & 1 & 0 & 1 & $\\dots$ \\\\\n",
       "\t5 & 1 & Q3 B & 0 & Q3 & B & 0 & 0 & 1 & $\\dots$ \\\\\n",
       "\t6 & 1 & Q3 C & 0 & Q3 & C & 0 & 0 & 1 & $\\dots$ \\\\\n",
       "\t7 & 1 & Q3 D & 0 & Q3 & D & 0 & 0 & 1 & $\\dots$ \\\\\n",
       "\t8 & 1 & Q3 E & 0 & Q3 & E & 1 & 0 & 1 & $\\dots$ \\\\\n",
       "\t9 & 1 & Q4 A & 0 & Q4 & A & 0 & 0 & 1 & $\\dots$ \\\\\n",
       "\t10 & 1 & Q4 B & 0 & Q4 & B & 0 & 0 & 1 & $\\dots$ \\\\\n",
       "\t11 & 1 & Q5 A & 0 & Q5 & A & 1 & 0 & 1 & $\\dots$ \\\\\n",
       "\t12 & 1 & Q5 B & 0 & Q5 & B & 0 & 0 & 1 & $\\dots$ \\\\\n",
       "\t13 & 1 & Q5 C & 0 & Q5 & C & 1 & 0 & 1 & $\\dots$ \\\\\n",
       "\t14 & 1 & Q5 D & 0 & Q5 & D & 0 & 0 & 1 & $\\dots$ \\\\\n",
       "\t15 & 1 & Q6 A & 0 & Q6 & A & 1 & 0 & 0 & $\\dots$ \\\\\n",
       "\t16 & 1 & Q6 B & 0 & Q6 & B & 0 & 0 & 0 & $\\dots$ \\\\\n",
       "\t17 & 1 & Q6 C & 0 & Q6 & C & 1 & 1 & 0 & $\\dots$ \\\\\n",
       "\t18 & 1 & Q7 A & 0 & Q7 & A & 1 & 0 & 1 & $\\dots$ \\\\\n",
       "\t19 & 1 & Q7 B & 0 & Q7 & B & 0 & 1 & 1 & $\\dots$ \\\\\n",
       "\t20 & 1 & Q8 A & 0 & Q8 & A & 1 & 0 & 0 & $\\dots$ \\\\\n",
       "\t21 & 1 & Q8 B & 0 & Q8 & B & 1 & 1 & 0 & $\\dots$ \\\\\n",
       "\t22 & 1 & Q9 A & 0 & Q9 & A & 1 & 0 & 0 & $\\dots$ \\\\\n",
       "\t23 & 1 & Q10 A & 0 & Q10 & A & 1 & 0 & 1 & $\\dots$ \\\\\n",
       "\t24 & 1 & Q10 B & 0 & Q10 & B & 0 & 0 & 1 & $\\dots$ \\\\\n",
       "\t25 & 1 & Q10 C & 0 & Q10 & C & 1 & 0 & 1 & $\\dots$ \\\\\n",
       "\t26 & 1 & Q10 D & 0 & Q10 & D & 0 & 0 & 1 & $\\dots$ \\\\\n",
       "\t27 & 1 & Q11 A & 0 & Q11 & A & 0 & 0 & 1 & $\\dots$ \\\\\n",
       "\t28 & 1 & Q11 B & 0 & Q11 & B & 0 & 0 & 1 & $\\dots$ \\\\\n",
       "\t29 & 1 & Q11 C & 0 & Q11 & C & 0 & 0 & 1 & $\\dots$ \\\\\n",
       "\t30 & 1 & Q11 D & 0 & Q11 & D & 0 & 0 & 1 & $\\dots$ \\\\\n",
       "\t$\\dots$ & $\\dots$ & $\\dots$ & $\\dots$ & $\\dots$ & $\\dots$ & $\\dots$ & $\\dots$ & $\\dots$ &  \\\\\n",
       "\\end{tabular}\n"
      ],
      "text/plain": [
       "5696×29 DataFrame. Omitted printing of 23 columns\n",
       "│ Row  │ subj  │ graphid │ tp     │ q      │ pt     │ risingBefore │\n",
       "│      │ \u001b[90mInt64\u001b[39m │ \u001b[90mString\u001b[39m  │ \u001b[90mInt64⍰\u001b[39m │ \u001b[90mString\u001b[39m │ \u001b[90mString\u001b[39m │ \u001b[90mInt64\u001b[39m        │\n",
       "├──────┼───────┼─────────┼────────┼────────┼────────┼──────────────┤\n",
       "│ 1    │ 1     │ Q2 A    │ 0      │ Q2     │ A      │ 1            │\n",
       "│ 2    │ 1     │ Q2 B    │ 0      │ Q2     │ B      │ 1            │\n",
       "│ 3    │ 1     │ Q2 C    │ 0      │ Q2     │ C      │ 1            │\n",
       "│ 4    │ 1     │ Q3 A    │ 0      │ Q3     │ A      │ 1            │\n",
       "│ 5    │ 1     │ Q3 B    │ 0      │ Q3     │ B      │ 0            │\n",
       "│ 6    │ 1     │ Q3 C    │ 0      │ Q3     │ C      │ 0            │\n",
       "│ 7    │ 1     │ Q3 D    │ 0      │ Q3     │ D      │ 0            │\n",
       "│ 8    │ 1     │ Q3 E    │ 0      │ Q3     │ E      │ 1            │\n",
       "│ 9    │ 1     │ Q4 A    │ 0      │ Q4     │ A      │ 0            │\n",
       "│ 10   │ 1     │ Q4 B    │ 0      │ Q4     │ B      │ 0            │\n",
       "⋮\n",
       "│ 5686 │ 178   │ Q9 A    │ 0      │ Q9     │ A      │ 1            │\n",
       "│ 5687 │ 178   │ Q10 A   │ 0      │ Q10    │ A      │ 1            │\n",
       "│ 5688 │ 178   │ Q10 B   │ 1      │ Q10    │ B      │ 0            │\n",
       "│ 5689 │ 178   │ Q10 C   │ 1      │ Q10    │ C      │ 1            │\n",
       "│ 5690 │ 178   │ Q10 D   │ 1      │ Q10    │ D      │ 0            │\n",
       "│ 5691 │ 178   │ Q11 A   │ 1      │ Q11    │ A      │ 0            │\n",
       "│ 5692 │ 178   │ Q11 B   │ 0      │ Q11    │ B      │ 0            │\n",
       "│ 5693 │ 178   │ Q11 C   │ 1      │ Q11    │ C      │ 0            │\n",
       "│ 5694 │ 178   │ Q11 D   │ 1      │ Q11    │ D      │ 0            │\n",
       "│ 5695 │ 178   │ Q12 A   │ 0      │ Q12    │ A      │ 1            │\n",
       "│ 5696 │ 178   │ Q13 A   │ 0      │ Q13    │ A      │ 1            │"
      ]
     },
     "execution_count": 1,
     "metadata": {},
     "output_type": "execute_result"
    },
    {
     "name": "stderr",
     "output_type": "stream",
     "text": [
      "┌ Warning: `T` is deprecated, use `nonmissingtype` instead.\n",
      "│   caller = compacttype(::Type, ::Int64) at show.jl:39\n",
      "└ @ DataFrames /Users/aguang/.julia/packages/DataFrames/Iyo5L/src/abstractdataframe/show.jl:39\n"
     ]
    }
   ],
   "source": [
    "using DataFrames\n",
    "using CSV\n",
    "using GLM\n",
    "using Gadfly\n",
    "using Statistics\n",
    "using NamedArrays\n",
    "#using DecisionTree\n",
    "\n",
    "DATA=\"/Users/aguang/CORE/tippingpoint/tippingpoint/data\"\n",
    "df_dv = CSV.File(joinpath(DATA,\"df_dv.dat\"),normalizenames=true) |> DataFrame!\n",
    "df_gc = CSV.File(joinpath(DATA,\"df_gc.dat\"),normalizenames=true) |> DataFrame!\n",
    "df_subject = CSV.File(joinpath(DATA,\"df_subject.dat\"),normalizenames=true) |> DataFrame!\n",
    "full_df = CSV.File(joinpath(DATA,\"full_df.dat\"),normalizenames=true) |> DataFrame!"
   ]
  },
  {
   "cell_type": "markdown",
   "metadata": {},
   "source": [
    "## Descriptive statistics\n",
    "\n",
    "### Missing data\n",
    "\n",
    "Here we filter out rows with missing values, as the function outputs missing otherwise. For the graph characteristics they should be coded as missing since reviewers were not able to reach an agreement. For the subject characteristics they are coded as missing because the individual did not answer the question.\n",
    "\n",
    "There is a lot of missing data. 70 participants out of 178 did not respond to one or more of the questions in the survey. Most of the questions they didn't respond to were the slider scale questions about the importance of various graph characteristics. Not sure if there was an issue in filling that part of the survey out. We could choose to impute the missing values for the subject characteristics if desired, as they can be assumed to be missing at random. The \"gold standard\" for imputation is multiple imputation, where several different possible imputed data sets are created and results from each of them are combined.\n",
    "\n",
    "Combined with 3 points of interest that had missing values associated with them (these were all in the complexity column) this became 2564 rows that had missing values in them, out of 5696."
   ]
  },
  {
   "cell_type": "code",
   "execution_count": null,
   "metadata": {},
   "outputs": [],
   "source": [
    "# how many rows with missing values in graph characteristics?\n",
    "@show sum(.!completecases(df_gc))\n",
    "# how many rows with missing values in subject characteristics?\n",
    "@show sum(.!completecases(df_subject))\n",
    "# how many rows with missing values in total data?\n",
    "@show sum(.!completecases(full_df))\n",
    "# what do the rows with missing values in subject characteristics look like?\n",
    "df_subject[.!completecases(df_subject),8:15]"
   ]
  },
  {
   "cell_type": "markdown",
   "metadata": {},
   "source": [
    "### Graph characteristic summaries\n",
    "\n",
    "In total there were 32 points of interest across 13 graphs. 17 were coded as rising before point of interest, 4 as can't see graph after point of interest, 21 as overall trend of graph was going down, 2 as overall trend of graph was a bell curve, and 26 as graph was rated as complex."
   ]
  },
  {
   "cell_type": "code",
   "execution_count": null,
   "metadata": {},
   "outputs": [],
   "source": [
    "# how many types of graphs?\n",
    "[sum(col) for col = eachcol(df_gc[completecases(df_gc),2:6])]"
   ]
  },
  {
   "cell_type": "markdown",
   "metadata": {},
   "source": [
    "### Tipping point declarations\n",
    "\n",
    "Number of tipping points declared was 2747, which was about half of the total number of observations.\n",
    "\n",
    "**todo:** look more at points within graphs"
   ]
  },
  {
   "cell_type": "code",
   "execution_count": null,
   "metadata": {},
   "outputs": [],
   "source": [
    "# how many tipping points declared?\n",
    "@show sum(skipmissing(df_dv.tp))\n",
    "# how many tipping points by point type?\n",
    "@show plot(by(df_dv, :q, :tp => x -> sum(skipmissing(x))), x=\"q\", y=\"tp_function\", Geom.bar)\n",
    "# how many tipping points by last point and previous points?\n",
    "# have to do this code"
   ]
  },
  {
   "cell_type": "markdown",
   "metadata": {},
   "source": [
    "### Correlation\n",
    "\n",
    "There is also a modest degree of correlation among the independent variables. It would appear that both the graph rising before the point of interest and being unable to see the trend after the point of interest are negatively correlated to the overall graph going down. The correlation is likely due to there not being many points to evaluate. We can keep this in mind for interpreting results.\n",
    "\n",
    "**todo:** check if correlation is statistically significant"
   ]
  },
  {
   "cell_type": "code",
   "execution_count": null,
   "metadata": {},
   "outputs": [],
   "source": [
    "function corNamed(df, indices, names)\n",
    "    cor = Statistics.cor(convert(Matrix, df[completecases(df),indices]))\n",
    "    n = NamedArray(cor)\n",
    "    setnames!(n, names, 1)\n",
    "    return(n)\n",
    "end\n",
    "\n",
    "named_gc = corNamed(df_gc, 2:6, [\"risingBefore\", \"cannotSeeAfter\",\n",
    "        \"downOverall\", \"bellOverall\", \"complexOverall\"])\n"
   ]
  },
  {
   "cell_type": "markdown",
   "metadata": {},
   "source": [
    "Looking at correlation among variables relating to the subject, it appears that the university being Brown and the experience are highly correlated, which makes sense as the Executive Masters program is at Brown. Otherwise there does not appear to be much correlation."
   ]
  },
  {
   "cell_type": "code",
   "execution_count": null,
   "metadata": {},
   "outputs": [],
   "source": [
    "named_subj = corNamed(df_subject, 2:20, [\"uniBrown\", \"expExec\", \"tpChange\", \"tpRate\", \"tpDir\", \"tpNoReturn\",\n",
    "            \"tellMgr\", \"impChange\", \"impRise\", \"impFall\", \"impPeriodic\", \"numOtherTP\",\n",
    "            \"liwcPosemo\", \"liwcNegemo\", \"liwcCause\", \"liwcFocusPre\", \"liwcFocusFut\",\n",
    "            \"liwcRelativ\", \"liwcTime\"])\n",
    "@show named_subj[1.0 .> abs.(named_subj) .> 0.5]\n",
    "named_subj"
   ]
  },
  {
   "cell_type": "markdown",
   "metadata": {},
   "source": [
    "The full correlation matrix confirms that correlation is mostly seen between variables related to the graph characteristics, and between variables related to the subjects. Correlation among those groups appears to be minimal."
   ]
  },
  {
   "cell_type": "code",
   "execution_count": null,
   "metadata": {},
   "outputs": [],
   "source": [
    "named_cor = corNamed(full_df, 4:27, [\"risingBefore\", \"cannotSeeAfter\",\n",
    "        \"downOverall\", \"bellOverall\", \"complexOverall\", \"uniBrown\", \"expExec\", \"tpChange\", \"tpRate\", \"tpDir\", \"tpNoReturn\",\n",
    "            \"tellMgr\", \"impChange\", \"impRise\", \"impFall\", \"impPeriodic\", \"numOtherTP\",\n",
    "            \"liwcPosemo\", \"liwcNegemo\", \"liwcCause\", \"liwcFocusPre\", \"liwcFocusFut\",\n",
    "            \"liwcRelativ\", \"liwcTime\"])\n",
    "#@show named_cor[1.0 .> abs.(named_cor) .> 0.5]\n",
    "#named_cor"
   ]
  },
  {
   "cell_type": "markdown",
   "metadata": {},
   "source": [
    "### Mean and standard deviation\n",
    "\n",
    "Also, here is the mean and standard deviation similar to those in the 2 other papers. It does not look particularly informative to me."
   ]
  },
  {
   "cell_type": "code",
   "execution_count": null,
   "metadata": {},
   "outputs": [],
   "source": [
    "DataFrame(Variables=[\"risingBefore\", \"cannotSeeAfter\",\n",
    "        \"downOverall\", \"bellOverall\", \"complexOverall\", \"uniBrown\", \"expExec\", \"tpChange\", \"tpRate\", \"tpDir\", \"tpNoReturn\",\n",
    "            \"tellMgr\", \"impChange\", \"impRise\", \"impFall\", \"impPeriodic\", \"numOtherTP\",\n",
    "            \"liwcPosemo\", \"liwcNegemo\", \"liwcCause\", \"liwcFocusPre\", \"liwcFocusFut\",\n",
    "            \"liwcRelativ\", \"liwcTime\"],\n",
    "    Mean=[mean(skipmissing(col)) for col = eachcol(full_df[:,4:27])],\n",
    "    SD=[std(skipmissing(col)) for col = eachcol(full_df[:,4:27])])"
   ]
  },
  {
   "cell_type": "markdown",
   "metadata": {},
   "source": [
    "## Logistic regression\n",
    "\n",
    "I have not looked at whether there are outliers in the data but given the correlation between the university and the amount of experience, I left the university variable out. Although there is correlation between the graph characteristics, again there are not that many points, so the correlation could be due to chance.\n",
    "\n",
    "### Multiple logistic regression\n",
    "\n",
    "Looking at the results and comparing them to the hypotheses, it looks like there may be evidence for **Hypothesis 1** (being unable to see what follows makes an individual less likely to declare a tipping point). The graph rising before the point in question is the strongest predictor of whether an individual will declare a tipping point or not, but it actually goes against **Hypothesis 2**."
   ]
  },
  {
   "cell_type": "code",
   "execution_count": null,
   "metadata": {},
   "outputs": [],
   "source": [
    "hp = glm(@formula(tp ~ risingBefore + cannotSeeAfter + downOverall + bellOverall +\n",
    "        complexOverall + expExec + tpChange + tpRate + tpDir + tpNoReturn +\n",
    "        tellMgr + impChange + impRise + impFall + impPeriodic +\n",
    "        numOtherTP + liwcPosemo + liwcNegemo + liwcCause + liwcFocusPre + liwcFocusFut +\n",
    "        liwcRelativ + liwcTime), full_df, Binomial(), LogitLink())"
   ]
  },
  {
   "cell_type": "code",
   "execution_count": null,
   "metadata": {},
   "outputs": [],
   "source": [
    "hp = glm(@formula(tp ~ risingBefore + cannotSeeAfter + downOverall + bellOverall +\n",
    "        complexOverall + expExec + tpChange + tpRate + tpDir + tpNoReturn +\n",
    "        tellMgr + impChange + impRise + impFall + impPeriodic +\n",
    "        numOtherTP + liwcPosemo + liwcNegemo + liwcCause + liwcFocusPre + liwcFocusFut +\n",
    "        liwcRelativ + liwcTime), full_df[completecases(full_df),:], Binomial(), LogitLink())"
   ]
  },
  {
   "cell_type": "code",
   "execution_count": null,
   "metadata": {},
   "outputs": [],
   "source": [
    "# Showing same information but as odds ratios which can be easier to interpret\n",
    "# not declaring a tipping point is the reference\n",
    "df_hp=DataFrame(OR=exp.(coef(hp)),Lower95=exp.(confint(hp)[:,1]),Upper95=exp.(confint(hp)[:,2]))\n",
    "df_hp.Variable=[\"Intercept\", \"Rising Before\", \"Cannot see after\", \"Down overall\",\n",
    "    \"Bell overall\", \"Complex overall\", \"Experience (Executive or Undergrad)\",\n",
    "    \"tp change\", \"tp rate\", \"tpdir\", \"tp no return\", \"tell manager\", \"imp Change\", \"imp rise\",\n",
    "    \"imp Fall\", \"impPeriodic\", \"numOtherTP\", \"liwcPosemo\", \"Negemo\", \"cause\", \"focus pre\",\n",
    "    \"focus fut\", \"relative\", \"time\"]\n",
    "df_hp"
   ]
  },
  {
   "cell_type": "markdown",
   "metadata": {},
   "source": [
    "When regressing on the variables individually, some of the variables are still significant, in particular those about the graph characteristics, but some of the variables are no longer significant. This suggests some kind of interaction effect. These results are not formatted super well, didn't have time to get to that."
   ]
  },
  {
   "cell_type": "code",
   "execution_count": null,
   "metadata": {},
   "outputs": [],
   "source": [
    "@show glm(@formula(tp ~ risingBefore), full_df, Binomial(), LogitLink())\n",
    "@show glm(@formula(tp ~ cannotSeeAfter), full_df, Binomial(), LogitLink())\n",
    "@show glm(@formula(tp ~ expExec), full_df, Binomial(), LogitLink())\n",
    "@show glm(@formula(tp ~ complexOverall), full_df, Binomial(), LogitLink())\n",
    "@show glm(@formula(tp ~ impChange), full_df, Binomial(), LogitLink())\n",
    "@show glm(@formula(tp ~ tellMgr), full_df, Binomial(), LogitLink())\n",
    "@show glm(@formula(tp ~ numOtherTP), full_df, Binomial(), LogitLink())"
   ]
  },
  {
   "cell_type": "markdown",
   "metadata": {},
   "source": [
    "# Analyses for 9/24/19\n",
    "\n",
    "## Dropping missing data\n",
    "\n",
    "Since most of the missing data came from 9 variables: importance of sustained change, importance rise, importance fall, importance periodic nature of occurrence, LIWC def cause, LIWC def focuspresent, LIWC def focusfuture, LIWC def relativ, LIWC def time, we decided to drop them.\n",
    "\n",
    "The results of the logistic regression after dropping the columns increases the significance of `expExec` which supports **Hypothesis 3:** more experienced subjects are less likely to declare a tipping point. It also increases the significance of `liwcPosemo`.\n",
    "\n",
    "Interestingly, dropping those missing data columns led to the `tellMgr` random variable no longer being significant."
   ]
  },
  {
   "cell_type": "code",
   "execution_count": 3,
   "metadata": {},
   "outputs": [
    {
     "name": "stderr",
     "output_type": "stream",
     "text": [
      "┌ Warning: `T` is deprecated, use `nonmissingtype` instead.\n",
      "│   caller = (::getfield(StatsModels, Symbol(\"##40#41\")){Array{Int64,1}})(::Array{Union{Missing, Int64},1}) at none:0\n",
      "└ @ StatsModels ./none:0\n",
      "┌ Warning: `T` is deprecated, use `nonmissingtype` instead.\n",
      "│   caller = (::getfield(StatsModels, Symbol(\"##40#41\")){Array{Int64,1}})(::Array{Int64,1}) at none:0\n",
      "└ @ StatsModels ./none:0\n",
      "┌ Warning: `T` is deprecated, use `nonmissingtype` instead.\n",
      "│   caller = (::getfield(StatsModels, Symbol(\"##40#41\")){Array{Int64,1}})(::Array{Float64,1}) at none:0\n",
      "└ @ StatsModels ./none:0\n"
     ]
    },
    {
     "data": {
      "text/plain": [
       "StatsModels.TableRegressionModel{GeneralizedLinearModel{GLM.GlmResp{Array{Float64,1},Binomial{Float64},LogitLink},GLM.DensePredChol{Float64,LinearAlgebra.Cholesky{Float64,Array{Float64,2}}}},Array{Float64,2}}\n",
       "\n",
       "tp ~ 1 + risingBefore + cannotSeeAfter + downOverall + bellOverall + complexOverall + expExec + tpChange + tpRate + tpDir + tpNoReturn + tellMgr + numOtherTP + liwcPosemo + liwcNegemo\n",
       "\n",
       "Coefficients:\n",
       "────────────────────────────────────────────────────────────────────────────────────\n",
       "                  Estimate  Std. Error    z value  Pr(>|z|)   Lower 95%    Upper 95%\n",
       "────────────────────────────────────────────────────────────────────────────────────\n",
       "(Intercept)     -0.750149   0.237137    -3.16335     0.0016  -1.21493    -0.285369  \n",
       "risingBefore     0.880678   0.0802935   10.9682      <1e-27   0.723306    1.03805   \n",
       "cannotSeeAfter  -0.578849   0.117508    -4.92603     <1e-6   -0.809161   -0.348537  \n",
       "downOverall      0.436222   0.115441     3.77873     0.0002   0.209961    0.662483  \n",
       "bellOverall      0.395594   0.170767     2.31657     0.0205   0.0608965   0.730291  \n",
       "complexOverall   0.0689318  0.123685     0.557319    0.5773  -0.173485    0.311349  \n",
       "expExec         -0.592126   0.0960981   -6.16169     <1e-9   -0.780475   -0.403778  \n",
       "tpChange         0.245181   0.116046     2.11279     0.0346   0.0177348   0.472628  \n",
       "tpRate           0.111669   0.0755038    1.47898     0.1391  -0.0363158   0.259654  \n",
       "tpDir           -0.0291181  0.0673925   -0.432067    0.6657  -0.161205    0.102969  \n",
       "tpNoReturn      -0.0581829  0.0871133   -0.6679      0.5042  -0.228922    0.112556  \n",
       "tellMgr         -0.0273082  0.0889393   -0.307043    0.7588  -0.201626    0.14701   \n",
       "numOtherTP      -0.0140805  0.0127189   -1.10705     0.2683  -0.039009    0.0108481 \n",
       "liwcPosemo      -0.0409269  0.00841103  -4.86586     <1e-5   -0.0574122  -0.0244416 \n",
       "liwcNegemo      -0.0231284  0.00922792  -2.50635     0.0122  -0.0412148  -0.00504201\n",
       "────────────────────────────────────────────────────────────────────────────────────"
      ]
     },
     "execution_count": 3,
     "metadata": {},
     "output_type": "execute_result"
    }
   ],
   "source": [
    "dropped = select(full_df, Not([:impChange,:impRise,:impFall,:impPeriodic,:liwcCause,:liwcFocusPre,:liwcFocusFut,:liwcRelativ,:liwcTime]))\n",
    "hp_dropped = glm(@formula(tp ~ risingBefore + cannotSeeAfter + downOverall + bellOverall +\n",
    "        complexOverall + expExec + tpChange + tpRate + tpDir + tpNoReturn +\n",
    "        tellMgr + numOtherTP + liwcPosemo + liwcNegemo), dropped, Binomial(), LogitLink())"
   ]
  },
  {
   "cell_type": "markdown",
   "metadata": {},
   "source": [
    "We run the analysis on each individual variable again using the filtered dataset. This time all the significant results that support **Hypothesis 1, 2, 3** stay significant."
   ]
  },
  {
   "cell_type": "code",
   "execution_count": null,
   "metadata": {},
   "outputs": [],
   "source": [
    "@show glm(@formula(tp ~ risingBefore), dropped, Binomial(), LogitLink())\n",
    "@show glm(@formula(tp ~ cannotSeeAfter), dropped, Binomial(), LogitLink())\n",
    "@show glm(@formula(tp ~ expExec), dropped, Binomial(), LogitLink())\n",
    "@show glm(@formula(tp ~ complexOverall), dropped, Binomial(), LogitLink())\n",
    "@show glm(@formula(tp ~ downOverall), dropped, Binomial(), LogitLink())\n",
    "@show glm(@formula(tp ~ tellMgr), dropped, Binomial(), LogitLink())\n",
    "@show glm(@formula(tp ~ numOtherTP), dropped, Binomial(), LogitLink())\n",
    "@show glm(@formula(tp ~ liwcPosemo), dropped, Binomial(), LogitLink())"
   ]
  },
  {
   "cell_type": "markdown",
   "metadata": {},
   "source": [
    "# Interaction effects\n",
    "\n",
    "Our next step is to look at potential interaction effects. The effects we are interested in are experience x emotions and curve rising x emotions. We do this both with logistic regression and decision trees."
   ]
  },
  {
   "cell_type": "markdown",
   "metadata": {},
   "source": [
    "## Decision Trees"
   ]
  },
  {
   "cell_type": "code",
   "execution_count": 5,
   "metadata": {},
   "outputs": [
    {
     "ename": "LoadError",
     "evalue": "syntax: missing comma or ) in argument list",
     "output_type": "error",
     "traceback": [
      "syntax: missing comma or ) in argument list",
      ""
     ]
    }
   ],
   "source": [
    "using DecisionTree\n",
    "dt = DecisionTreeRegressor()\n",
    "test = convert(Matrix,dropped[:,[:risingBefore,:cannotSeeAfter,:downOverall,:expExec,:liwcPosemo,:liwcNegemo]])\n",
    "tp = dropped[:,:tp]\n",
    "DecisionTree.fit!(dt, test, tp)"
   ]
  },
  {
   "cell_type": "code",
   "execution_count": 43,
   "metadata": {},
   "outputs": [
    {
     "ename": "ErrorException",
     "evalue": "type DecisionTreeRegressor has no field left",
     "output_type": "error",
     "traceback": [
      "type DecisionTreeRegressor has no field left",
      "",
      "Stacktrace:",
      " [1] getproperty(::Any, ::Symbol) at ./sysimg.jl:18",
      " [2] top-level scope at In[43]:1"
     ]
    }
   ],
   "source": [
    "dt.left"
   ]
  },
  {
   "cell_type": "markdown",
   "metadata": {},
   "source": [
    "## Logistic regression"
   ]
  },
  {
   "cell_type": "code",
   "execution_count": null,
   "metadata": {},
   "outputs": [],
   "source": [
    "@show glm(@formula(tp ~ expExec * liwcPosemo), dropped, Binomial(), LogitLink())\n",
    "@show glm(@formula(tp ~ expExec * liwcNegemo), dropped, Binomial(), LogitLink())"
   ]
  },
  {
   "cell_type": "code",
   "execution_count": null,
   "metadata": {},
   "outputs": [],
   "source": []
  },
  {
   "cell_type": "code",
   "execution_count": null,
   "metadata": {},
   "outputs": [],
   "source": [
    "@show glm(@formula(tp ~ risingBefore * liwcPosemo), dropped, Binomial(), LogitLink())\n",
    "@show glm(@formula(tp ~ risingBefore * liwcNegemo), dropped, Binomial(), LogitLink())"
   ]
  },
  {
   "cell_type": "code",
   "execution_count": null,
   "metadata": {},
   "outputs": [],
   "source": [
    "@show glm(@formula(tp ~ cannotSeeAfter * liwcPosemo), dropped, Binomial(), LogitLink())\n",
    "@show glm(@formula(tp ~ downOverall * liwcPosemo), dropped, Binomial(), LogitLink())\n",
    "@show glm(@formula(tp ~ bellOverall * liwcPosemo), dropped, Binomial(), LogitLink())\n",
    "glm(@formula(tp ~ complexOverall * liwcPosemo), dropped, Binomial(), LogitLink())"
   ]
  },
  {
   "cell_type": "markdown",
   "metadata": {},
   "source": [
    "# Next steps\n",
    "\n",
    " * ~~Drop slider data; will reduce amount of missing data~~ (Done 9/24/19)\n",
    " * ~~Keep in posemo negemo but drop the other liwc columns~~ (Done 9/24/19)\n",
    " * Look for interaction effects\n",
    " * Is the correlation statistically significant?\n",
    " * Any idea why rising before is so significant?\n",
    " * Thoughts on imputing missing data? And also the reason for missing data?\n",
    "   - not going to impute\n",
    " * Thoughts on multicollinearity?\n",
    " * I still need to look at the other hypotheses, in particular 8 and 10.\n",
    " * Need to flesh out multiple logistic regression analysis, in particular likelihood ratio test and understanding any interaction effects.\n",
    " * One thing we might want to take a look at is if there is correlation among points on the same graph. For example, I would suspect that only one point on a single graph is actually marked as a tipping point."
   ]
  },
  {
   "cell_type": "code",
   "execution_count": null,
   "metadata": {},
   "outputs": [],
   "source": []
  }
 ],
 "metadata": {
  "@webio": {
   "lastCommId": null,
   "lastKernelId": null
  },
  "kernelspec": {
   "display_name": "Julia 1.1.0",
   "language": "julia",
   "name": "julia-1.1"
  },
  "language_info": {
   "file_extension": ".jl",
   "mimetype": "application/julia",
   "name": "julia",
   "version": "1.1.0"
  }
 },
 "nbformat": 4,
 "nbformat_minor": 2
}
